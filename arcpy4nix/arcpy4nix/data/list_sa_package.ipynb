{
 "cells": [
  {
   "cell_type": "code",
   "execution_count": 9,
   "metadata": {
    "collapsed": true
   },
   "outputs": [
    {
     "name": "stdout",
     "output_type": "stream",
     "text": [
      "ExtractValuesToPoints(in_point_features, in_raster, out_point_features, {interpolate_values}, {add_attributes})\nSample([in_raster,...], in_location_data, out_table, {resampling_type})\nParticleTrack(in_direction_raster, in_magnitude_raster, source_point, out_track_file, {step_length}, {tracking_time}, {out_track_polyline_features})\nStreamToFeature(in_stream_raster, in_flow_direction_raster, out_polyline_features, {simplify})\nBandCollectionStats([in_raster_band,...], out_stat_file, {compute_matrices})\nCreateSignatures([in_raster_band,...], in_sample_data, out_signature_file, {compute_covariance}, {sample_field})\nDendrogram(in_signature_file, out_dendrogram_file, {distance_calculation}, {line_width})\nEditSignatures([in_raster_band,...], in_signature_file, in_signature_remap_file, out_signature_file, {sample_interval})\nIsoCluster([in_raster_band,...], out_signature_file, number_classes, {number_iterations}, {min_class_size}, {sample_interval})\nContour(in_raster, out_polyline_features, contour_interval, {base_contour}, {z_factor})\nContourList(in_raster, out_polyline_features, [contour_value,...])\nTabulateArea(in_zone_data, zone_field, in_class_data, class_field, out_table, {processing_cell_size})\nZonalGeometryAsTable(in_zone_data, zone_field, out_table, {processing_cell_size})\nZonalStatisticsAsTable(in_zone_data, zone_field, in_value_raster, out_table, {ignore_nodata}, {statistics_type})\nPointsSolarRadiation(in_surface_raster, in_points_feature_or_table, out_global_radiation_features, {height_offset}, {latitude}, {sky_size}, {time_configuration}, {day_interval}, {hour_interval}, {each_interval}, {z_factor}, {slope_aspect_input_type}, {calculation_directions}, {zenith_divisions}, {azimuth_divisions}, {diffuse_model_type}, {diffuse_proportion}, {transmittivity}, {out_direct_radiation_features}, {out_diffuse_radiation_features}, {out_direct_duration_features})\nContourWithBarriers(in_raster, out_contour_feature_class, {in_barrier_features}, {in_contour_type}, {in_contour_values_file}, {explicit_only}, {in_base_contour}, {in_contour_interval}, {in_indexed_contour_interval}, {[in_explicit_contour,...]}, {in_z_factor})\nZonalHistogram(in_zone_data, zone_field, in_value_raster, out_table, {out_graph})\nExtractMultiValuesToPoints(in_point_features, [[Raster, {Output Field Name}],...], {bilinear_interpolate_values})\nAn extent is a rectangle specified by providing the coordinate of the lower\nThe point object is used frequently with cursors. Point features return a\nRaster(in_raster)Create a Raster object.Arguments:  in_raster -- Name of raster\n"
     ]
    }
   ],
   "source": [
    "import arcpy.sa\n",
    "sa_functions = arcpy.sa.__all__\n",
    "for f in sa_functions:\n",
    "    doc = arcpy.sa.__dict__[f].__doc__\n",
    "    if doc.find(\"Results:\") == -1:\n",
    "        print doc.split(\"\\n\")[0]"
   ]
  },
  {
   "cell_type": "code",
   "execution_count": 40,
   "metadata": {},
   "outputs": [
    {
     "name": "stdout",
     "output_type": "stream",
     "text": [
      "bandCount 1\ncatalogPath None\ncompressionType None\nextent 0 0 240 240 NaN NaN NaN NaN\nformat None\nhasRAT None\nheight 8\nisInteger False\nisTemporary True\nmaximum 0.987774372101\nmean 0.556929423066\nmeanCellHeight 30.0\nmeanCellWidth 30.0\nminimum 0.0408166386187\nname None\nnoDataValue -3.40282346639e+38\npath None\npixelType F32\nsave <built-in method save of Raster object at 0x0000000003C83890>\nspatialReference <geoprocessing spatial reference object object at 0x0000000003C83D50>\nstandardDeviation 0.280916214782\nuncompressedSize 256\nwidth 8\n"
     ]
    },
    {
     "ename": "AttributeError",
     "evalue": "'Extent' object has no attribute 'JSON'",
     "traceback": [
      "\u001b[1;31m\u001b[0m",
      "\u001b[1;31mAttributeError\u001b[0mTraceback (most recent call last)",
      "\u001b[1;32m<ipython-input-40-dd9e8d4fcc46>\u001b[0m in \u001b[0;36m<module>\u001b[1;34m()\u001b[0m\n\u001b[0;32m      5\u001b[0m     \u001b[1;32mif\u001b[0m \u001b[1;32mnot\u001b[0m \u001b[0mp\u001b[0m\u001b[1;33m.\u001b[0m\u001b[0mstartswith\u001b[0m\u001b[1;33m(\u001b[0m\u001b[1;34m\"__\"\u001b[0m\u001b[1;33m)\u001b[0m\u001b[1;33m:\u001b[0m\u001b[1;33m\u001b[0m\u001b[0m\n\u001b[0;32m      6\u001b[0m         \u001b[1;32mprint\u001b[0m \u001b[0mp\u001b[0m\u001b[1;33m,\u001b[0m \u001b[0mgetattr\u001b[0m\u001b[1;33m(\u001b[0m\u001b[0ms\u001b[0m\u001b[1;33m,\u001b[0m \u001b[0mp\u001b[0m\u001b[1;33m)\u001b[0m\u001b[1;33m\u001b[0m\u001b[0m\n\u001b[1;32m----> 7\u001b[1;33m \u001b[1;32mprint\u001b[0m \u001b[0ms\u001b[0m\u001b[1;33m.\u001b[0m\u001b[0mextent\u001b[0m\u001b[1;33m.\u001b[0m\u001b[0mJSON\u001b[0m\u001b[1;33m\u001b[0m\u001b[0m\n\u001b[0m",
      "\u001b[1;31mAttributeError\u001b[0m: 'Extent' object has no attribute 'JSON'"
     ],
     "output_type": "error"
    }
   ],
   "source": [
    "arcpy.CheckOutExtension(\"spatial\")\n",
    "s = arcpy.sa.CreateRandomRaster(1, 30, arcpy.sa.Extent(0,0,250,250))\n",
    "q = dir(s)\n",
    "for p in q:\n",
    "    if not p.startswith(\"__\"):\n",
    "        print p, getattr(s, p)\n",
    "print s.extent.JSON"
   ]
  },
  {
   "cell_type": "code",
   "execution_count": 25,
   "metadata": {},
   "outputs": [
    {
     "data": {
      "text/plain": [
       "['create',\n 'createfromfile',\n 'exporttostring',\n 'loadfromstring',\n 'setdomain',\n 'setfalseoriginandunits',\n 'setmdomain',\n 'setmfalseoriginandunits',\n 'setzdomain',\n 'setzfalseoriginandunits']"
      ]
     },
     "execution_count": 25,
     "metadata": {},
     "output_type": "execute_result"
    }
   ],
   "source": [
    "dir(s.spatialReference)"
   ]
  },
  {
   "cell_type": "code",
   "execution_count": 26,
   "metadata": {},
   "outputs": [
    {
     "data": {
      "text/plain": [
       "1L"
      ]
     },
     "execution_count": 26,
     "metadata": {},
     "output_type": "execute_result"
    }
   ],
   "source": [
    "s.bandCount"
   ]
  },
  {
   "cell_type": "code",
   "execution_count": 30,
   "metadata": {},
   "outputs": [
    {
     "data": {
      "text/plain": [
       "True"
      ]
     },
     "execution_count": 30,
     "metadata": {},
     "output_type": "execute_result"
    }
   ],
   "source": [
    "s.isTemporary"
   ]
  },
  {
   "cell_type": "code",
   "execution_count": 29,
   "metadata": {},
   "outputs": [
    {
     "data": {
      "text/plain": [
       "0.542054501522216"
      ]
     },
     "execution_count": 29,
     "metadata": {},
     "output_type": "execute_result"
    }
   ],
   "source": [
    "s.mean"
   ]
  },
  {
   "cell_type": "code",
   "execution_count": 32,
   "metadata": {},
   "outputs": [
    {
     "data": {
      "text/plain": [
       "30.0"
      ]
     },
     "execution_count": 32,
     "metadata": {},
     "output_type": "execute_result"
    }
   ],
   "source": [
    "s.meanCellHeight"
   ]
  },
  {
   "cell_type": "code",
   "execution_count": 34,
   "metadata": {},
   "outputs": [
    {
     "data": {
      "text/plain": [
       "30.0"
      ]
     },
     "execution_count": 34,
     "metadata": {},
     "output_type": "execute_result"
    }
   ],
   "source": [
    "s.meanCellWidth"
   ]
  },
  {
   "cell_type": "code",
   "execution_count": 36,
   "metadata": {},
   "outputs": [
    {
     "ename": "AttributeError",
     "evalue": "'Raster' object has no attribute '__dict__'",
     "traceback": [
      "\u001b[1;31m\u001b[0m",
      "\u001b[1;31mAttributeError\u001b[0mTraceback (most recent call last)",
      "\u001b[1;32m<ipython-input-36-22a48543beb8>\u001b[0m in \u001b[0;36m<module>\u001b[1;34m()\u001b[0m\n\u001b[1;32m----> 1\u001b[1;33m \u001b[0ms\u001b[0m\u001b[1;33m.\u001b[0m\u001b[0m__dict__\u001b[0m\u001b[1;33m\u001b[0m\u001b[0m\n\u001b[0m",
      "\u001b[1;31mAttributeError\u001b[0m: 'Raster' object has no attribute '__dict__'"
     ],
     "output_type": "error"
    }
   ],
   "source": [
    ""
   ]
  },
  {
   "cell_type": "code",
   "execution_count": 42,
   "metadata": {},
   "outputs": [
    {
     "data": {
      "text/plain": [
       "'{\"format\": null}'"
      ]
     },
     "execution_count": 42,
     "metadata": {},
     "output_type": "execute_result"
    }
   ],
   "source": [
    "import json\n",
    "json.dumps({\"format\": None})"
   ]
  },
  {
   "cell_type": "code",
   "execution_count": null,
   "metadata": {},
   "outputs": [],
   "source": [
    ""
   ]
  }
 ],
 "metadata": {
  "kernelspec": {
   "display_name": "Python 2",
   "language": "python",
   "name": "python2"
  },
  "language_info": {
   "codemirror_mode": {
    "name": "ipython",
    "version": 2.0
   },
   "file_extension": ".py",
   "mimetype": "text/x-python",
   "name": "python",
   "nbconvert_exporter": "python",
   "pygments_lexer": "ipython2",
   "version": "2.7.6"
  }
 },
 "nbformat": 4,
 "nbformat_minor": 0
}